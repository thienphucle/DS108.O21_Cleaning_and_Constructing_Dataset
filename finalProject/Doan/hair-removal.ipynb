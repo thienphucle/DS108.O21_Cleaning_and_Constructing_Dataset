{
 "cells": [
  {
   "cell_type": "code",
   "execution_count": null,
   "metadata": {},
   "outputs": [],
   "source": [
    "#Hair removal \n",
    "\n",
    "def scale_remove_hair(input_path,output_path):\n",
    "    #Read image\n",
    "    image=cv2.imread(input_path,cv2.IMREAD_COLOR)\n",
    "    image_size = 224\n",
    "    height, width = image.shape[:2]  # assuming image is a grayscale image or color image read by OpenCV\n",
    "    start_y = (height - image_size) // 2\n",
    "    start_x = (width - image_size) // 2\n",
    "    img = image[start_y:start_y+image_size, start_x:start_x+image_size]\n",
    "        \n",
    "    #DULL RAZOR (REMOVE HAIR)\n",
    "\n",
    "    #Gray scale\n",
    "    grayScale = cv2.cvtColor(img, cv2.COLOR_RGB2GRAY )\n",
    "    #Black hat filter\n",
    "    kernel = cv2.getStructuringElement(1,(9,9)) \n",
    "    blackhat = cv2.morphologyEx(grayScale, cv2.MORPH_BLACKHAT, kernel)\n",
    "    #Gaussian filter\n",
    "    bhg= cv2.GaussianBlur(blackhat,(3,3),cv2.BORDER_DEFAULT)\n",
    "    #Binary thresholding (MASK)\n",
    "    ret,mask = cv2.threshold(bhg,10,255,cv2.THRESH_BINARY)\n",
    "    #Replace pixels of the mask\n",
    "    dst = cv2.inpaint(img,mask,6,cv2.INPAINT_TELEA)   \n",
    "\n",
    "    cv2.imwrite(output_path,dst)\n",
    "\n",
    "dataset_hair_removed = os.path.join(my_dir, 'dataset_hair_removed')\n",
    "os.makedirs(dataset_hair_removed, exist_ok=True)\n",
    "for image_id in data_pd['image_id']:\n",
    "    image_path = os.path.join('D:\\SkinCancer\\data', image_id + '.JPG')\n",
    "    new_image_path = os.path.join(dataset_hair_removed, image_id + '.jpg')\n",
    "    scale_remove_hair(image_path,new_image_path)"
   ]
  }
 ],
 "metadata": {
  "language_info": {
   "name": "python"
  }
 },
 "nbformat": 4,
 "nbformat_minor": 2
}
